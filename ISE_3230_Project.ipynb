import cvxpy as cp

#x = cp.Variable(5, nonneg  = True) # rides
y = cp.Variable((3, 5), boolean = True) # whether or not the ride was rode in the given 2 hour interval
z = cp.Variable(3, nonneg = True)
#t = cp.Variable((3, 5), nonneg = True) # time variable for adjusting based on the hour

# 10:00 am - 4:00 pm on a day late in the month of November
constraints = []
constraints.append(y[0,0] + y[1,0] + y[2,0] >= 1)
constraints.append(y[0,1] + y[1,1] + y[2,1] >= 1)
constraints.append(y[0,2] + y[1,2] + y[2,2] >= 1)
constraints.append(y[0,3] + y[1,3] + y[2,3] >= 1)
constraints.append(y[0,4] + y[1,4] + y[2,4] >= 1)

constraints.append(120*y[0,0] + 45*y[0,1] + 40*y[0,2] + 80*y[0,3] + 70*y[0,4] <= 120)
constraints.append(105*y[1,0] + 55*y[1,1] + 30*y[1,2] + 60*y[1,3] + 55*y[1,4] <= 120)
constraints.append(70*y[0,0] + 20*y[2,1] + 35*y[2,2] + 70*y[2,3] + 60*y[2,4] <= 120)

constraints.append(z[0] == 120*y[0,0] + 45*y[0,1] + 40*y[0,2] + 80*y[0,3] + 70*y[0,4])
constraints.append(z[1] == 105*y[1,0] + 55*y[1,1] + 30*y[1,2] + 60*y[1,3] + 55*y[1,4])
constraints.append(z[2] == 70*y[0,0] + 20*y[2,1] + 35*y[2,2] + 70*y[2,3] + 60*y[2,4])

obj_func = 100*y[0,0]+65*y[0,1]+50*y[0,2]+80*y[0,3]+40*y[0,4]+100*y[1,0]+65*y[1,1]+50*y[1,2]+80*y[1,3]+40*y[1,4]+100*y[2,0]+65*y[2,1]+50*y[2,2]+80*y[2,3]+40*y[2,4]

problem = cp.Problem(cp.Maximize(obj_func), constraints)

#problem.solve(verbose = True)
#problem.solve(solver=cp.CVXOPT,verbose = True) #verbose parameter determines showing/not showing the output
problem.solve(solver=cp.GUROBI,verbose = True)

print("obj_func =")
print(obj_func.value)
print("y =")
print(y.value)
print("z =")
print(z.value)
